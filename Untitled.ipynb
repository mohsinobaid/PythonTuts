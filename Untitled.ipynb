{
 "cells": [
  {
   "cell_type": "markdown",
   "metadata": {},
   "source": [
    "# Python Tutorials\n",
    "[Python.org](https://docs.python.org/3/tutorial/index.html)\n",
    "\n",
    "## Why Use Python?\n",
    "- High-level data structures\n",
    "- Dynamic Typing\n",
    "- Interpreted nature\n",
    "\n",
    "## Chapters\n",
    "1. [x] Whetting Your appetite\n",
    "2. [x] Using the Python Interpreter\n",
    "3. [ ] An Informal Introduction to Python\n",
    "4. [ ] More Control Flow Tools\n",
    "5. [ ] Data Structures\n",
    "6. [ ] Modules\n",
    "7. [ ] Input and Output\n",
    "8. [ ] Errors and Exceptions\n",
    "9. [ ] Classes\n",
    "10. [ ] Brief Tour of the Standard Library\n",
    "11. [ ] Brief Tour of the Standard Library - Part II\n",
    "12. [ ] Virtual Environments and Packages\n",
    "13. [ ] What Now?\n",
    "14. [ ] Interactive Input Editing and History Substitution\n",
    "15. [ ] Floating Point Arithmetic: Issues and Limitations\n",
    "16. [ ] Appendix\n",
    "\n",
    "### 1. Whetting Your appetite\n",
    "- Python allows you to split your program into modules that can be reused in other Python programs. (file I/O, system calls, sockets, and even intergaces to graphical user interface toolkits like Tk)\n",
    "\n",
    "- Python is an interpreted language, which can save you considerable time during program development because no compilation and linking is necessary. The interpreter can be used interactively, which makes it easy to experiment with features of the language, to write throw-away programs, or to test functions during bottom-up programming development.\n",
    "\n",
    "- Python is extensible: If you know how to program in C it is easy to add a new built-in function or module to the interpreter, either to perform critical operations at maximum speed, or to link Python programs to libraries that may only be available in binary form (such as a vendor-specific graphics library). Once you are really hooked, you can link the Python interpreter into an application written in C and use it as an extension or command language for that application.\n",
    "\n",
    "### 2. Using the Python Interpreter\n",
    "- The interpreter operates somewhat like the Unix shell: when called with standard input connected to a tty device, it reads and executes commands interactively; when called with a file name argument or with a file as standard input, it reads and executes a script from that file.\n",
    "\n",
    "- When a script file is used, it is sometimes useful to be able to run the script and enter interactive mode afterwards. This can be done by passing -i before the script.\n",
    "\n",
    "### 3. An Informal Introduction to Python\n",
    "\n",
    "- Integer numbers have type int, the ones with a fractional part have type float. Division always returns a float.\n",
    "- To do floor division and get an integer result you can use the  // operator.\n",
    "- With Python, it is possible to use the ** operatory to calculate powers 5 ** 2 --> 25\n",
    "- There is full support for floating point; operators with mixed type operands convert the integer operand to floating point:\n",
    "\n",
    "```"
   ]
  },
  {
   "cell_type": "code",
   "execution_count": 3,
   "metadata": {},
   "outputs": [
    {
     "data": {
      "text/plain": [
       "14.0"
      ]
     },
     "execution_count": 3,
     "metadata": {},
     "output_type": "execute_result"
    }
   ],
   "source": [
    ">>> 4 * 3.75 -1"
   ]
  },
  {
   "cell_type": "markdown",
   "metadata": {},
   "source": [
    "- In interactive mode, the last printed expression is  assigned to the variable _ This means that when you are using Python as a desl calculator, it is somewhat easier to continue calculations, for example:"
   ]
  },
  {
   "cell_type": "code",
   "execution_count": 7,
   "metadata": {},
   "outputs": [
    {
     "data": {
      "text/plain": [
       "113.06"
      ]
     },
     "execution_count": 7,
     "metadata": {},
     "output_type": "execute_result"
    }
   ],
   "source": [
    "tax = 12.5/100\n",
    "price = 100.50\n",
    "price * tax\n",
    "price + _\n",
    "round(_,2)"
   ]
  },
  {
   "cell_type": "markdown",
   "metadata": {},
   "source": [
    "### 3.1.2 Strings\n",
    "- Can use either '' or \"\"\n",
    "- Use \\ to escape single quotes 'doesn\\'t'\n",
    "- Two or more string literals (i.e. the ones enclosed between quotes) next to each other are automatically concatenated.\n",
    "- Strings can be indexed (subscripted), with the first character having index 0. There is no separate character type; a character is simply a string of size one.\n",
    "- Indices may also be negative numbers, to start counting from the right.\n",
    "(Note that since -0 is the same as 0, negative indices start from -1)\n",
    "- In addition to indexing, slicing is also supported. While indexing is used to obtain individual characters, slicing allows you to obtain substring:\n",
    "```\n",
    "word[0:2] #characters from position 0 (included) to 2(excluded)\n",
    "word[2:5] #characters from position 2 (included) to 5(excluded)\n",
    "```\n",
    "- Note how the start is always included, and the end is always excluded. This makes sure that s[:i] + s[i:] is always equal to s."
   ]
  },
  {
   "cell_type": "code",
   "execution_count": null,
   "metadata": {},
   "outputs": [],
   "source": []
  }
 ],
 "metadata": {
  "kernelspec": {
   "display_name": "Python 3",
   "language": "python",
   "name": "python3"
  },
  "language_info": {
   "codemirror_mode": {
    "name": "ipython",
    "version": 3
   },
   "file_extension": ".py",
   "mimetype": "text/x-python",
   "name": "python",
   "nbconvert_exporter": "python",
   "pygments_lexer": "ipython3",
   "version": "3.5.3"
  }
 },
 "nbformat": 4,
 "nbformat_minor": 2
}
